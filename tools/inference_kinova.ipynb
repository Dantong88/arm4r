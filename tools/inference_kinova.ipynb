{
 "cells": [
  {
   "cell_type": "markdown",
   "id": "308188fd",
   "metadata": {},
   "source": [
    "# ARM4R Inference Notebook\n",
    "\n",
    "This notebook runs inference using the ARM4R policy on a real-world Kinova robot demonstration. It loads model weights, visualizes the demo, and plots predicted versus ground truth actions.\n"
   ]
  },
  {
   "cell_type": "markdown",
   "id": "9f8252df",
   "metadata": {},
   "source": [
    "## Step 1: Import Dependencies\n",
    "We begin by importing all required libraries."
   ]
  },
  {
   "cell_type": "code",
   "execution_count": null,
   "id": "31ff62f3",
   "metadata": {},
   "outputs": [],
   "source": [
    "import json\n",
    "import os\n",
    "from arm4r.models.policy.arm4r_wrapper import ARM4RWrapper\n",
    "from PIL import Image\n",
    "import numpy as np\n",
    "import matplotlib.pyplot as plt\n",
    "import matplotlib.animation as animation\n",
    "from tqdm import trange\n",
    "import zarr"
   ]
  },
  {
   "cell_type": "markdown",
   "id": "afb61537",
   "metadata": {},
   "source": [
    "## Step 2: Define Helper Function\n",
    "This function loads image, proprioception, and action data from the demo path."
   ]
  },
  {
   "cell_type": "code",
   "execution_count": null,
   "id": "a97bc603",
   "metadata": {},
   "outputs": [],
   "source": [
    "def get_data_from_demo_path(demo_path, length, image_resolution=[[-1,256,456,3], [-1, 256,456,3]], \n",
    "                             observation_key=['observation/exterior_image_1_left', 'observation/wrist_image_left'], \n",
    "                             points_key='wrist_points', return_PIL_images=False):\n",
    "    camera_observations = {}\n",
    "    for key in observation_key:\n",
    "        camera_observations[key] = []\n",
    "        for img_dix in range(length):\n",
    "            try:\n",
    "                if os.path.exists(os.path.join(demo_path, 'images')):\n",
    "                    current_frame_path = os.path.join(demo_path, 'images', os.path.basename(key), '%05d.jpg' % img_dix)\n",
    "                    current_frame = Image.open(current_frame_path)\n",
    "                else:\n",
    "                    image_json = json.load(open(os.path.join(demo_path, 'images.json')))\n",
    "                    current_frame_path = image_json[key][img_dix]\n",
    "                    current_frame = Image.open(current_frame_path)\n",
    "            except:\n",
    "                current_frame = np.random.randint(0, 255, image_resolution[0][1:], dtype=\"uint8\")\n",
    "            if not current_frame.size == (image_resolution[0][2], image_resolution[0][1]):\n",
    "                current_frame = current_frame.resize((image_resolution[0][2], image_resolution[0][1]))\n",
    "            camera_observations[key].append(np.asarray(current_frame))\n",
    "        camera_observations[key] = np.stack(camera_observations[key])\n",
    "\n",
    "    side_images_l = camera_observations[observation_key[0]]\n",
    "    wrist_images_l = camera_observations[observation_key[1]]\n",
    "\n",
    "    proprios = zarr.load(os.path.join(demo_path, 'proprio.zarr'))\n",
    "    actions = zarr.load(os.path.join(demo_path, 'action.zarr'))\n",
    "    instruction = zarr.load(os.path.join(demo_path, 'instruction.zarr'))\n",
    "\n",
    "    if return_PIL_images:\n",
    "        side_images_l = [Image.fromarray(side_images_l[i]) for i in range(side_images_l.shape[0])]\n",
    "        wrist_images_l = [Image.fromarray(wrist_images_l[i]) for i in range(wrist_images_l.shape[0])]\n",
    "\n",
    "    return {\n",
    "        \"side_images\": side_images_l,\n",
    "        \"wrist_images\": wrist_images_l,\n",
    "        \"actions\": actions,\n",
    "        \"proprios\": proprios,\n",
    "        \"instruction\": instruction\n",
    "    }"
   ]
  },
  {
   "cell_type": "markdown",
   "id": "19513ff4",
   "metadata": {},
   "source": [
    "## Step 3: Initialize Model and Load Configurations\n",
    "\n",
    "Your need to pass all your data and checkpoint path here."
   ]
  },
  {
   "cell_type": "code",
   "execution_count": null,
   "id": "f7cec4bd",
   "metadata": {},
   "outputs": [],
   "source": [
    "demo_path = 'PREFIX/real_kinova_release_data/pick_cube/pick_yellow_cube/kinova_tasks/common_task/2025-01-06T18:49:39.032022' # choose a random demo from the dataset\n",
    "checkpoint_path = '../arm4r-ckpts/model_ckpts/ft_kinova_pick_cube/ft_kinova_pick_cube.pth' # here you can use our realsed pick cube Kinova ckpt\n",
    "train_yaml_path = os.path.join(os.path.dirname(checkpoint_path), \"run.yaml\")\n",
    "vision_encoder_path = \"../arm4r-ckpts/vision_encoder/cross-mae-rtx-vitb.pth\"\n",
    "\n",
    "image_resolution = [[-1,224,224,3], [-1, 224,224,3]]\n",
    "observation_key = ['observation/exterior_image_1_left', 'observation/wrist_image_left']\n",
    "points_key = 'action'\n",
    "\n",
    "arm4r = ARM4RWrapper(train_yaml_path, checkpoint_path, vision_encoder_path)"
   ]
  },
  {
   "cell_type": "markdown",
   "id": "68e930e2",
   "metadata": {},
   "source": [
    "## Step 4: Load Demonstration Data"
   ]
  },
  {
   "cell_type": "code",
   "execution_count": null,
   "id": "982b915b",
   "metadata": {},
   "outputs": [],
   "source": [
    "length = zarr.load(os.path.join(demo_path, f'{points_key}.zarr')).shape[0] - 1\n",
    "\n",
    "obs_dict = get_data_from_demo_path(\n",
    "    demo_path=demo_path,\n",
    "    length=length,\n",
    "    image_resolution=image_resolution,\n",
    "    observation_key=observation_key,\n",
    "    points_key=points_key\n",
    ")\n",
    "\n",
    "side_images_l = obs_dict[\"side_images\"]\n",
    "wrist_images_l = obs_dict[\"wrist_images\"]\n",
    "proprios = obs_dict[\"proprios\"]\n",
    "actions = obs_dict[\"actions\"]\n",
    "instruction = obs_dict[\"instruction\"]"
   ]
  },
  {
   "cell_type": "markdown",
   "id": "36ece9e6",
   "metadata": {},
   "source": [
    "## Step 5: Visualize the Demonstration\n",
    "This animates the camera views from the side and wrist."
   ]
  },
  {
   "cell_type": "code",
   "execution_count": null,
   "id": "ea9814df",
   "metadata": {},
   "outputs": [],
   "source": [
    "frames = np.concatenate([side_images_l, wrist_images_l], axis=1)\n",
    "T = frames.shape[0]\n",
    "\n",
    "fig, ax = plt.subplots()\n",
    "img = ax.imshow(frames[0])\n",
    "\n",
    "def update(frame):\n",
    "    img.set_data(frame)\n",
    "    return [img]\n",
    "\n",
    "ani = animation.FuncAnimation(fig, update, frames=frames, interval=50, blit=True)\n",
    "plt.show()"
   ]
  },
  {
   "cell_type": "markdown",
   "id": "0161971c",
   "metadata": {},
   "source": [
    "## Step 6: Run Policy Inference\n",
    "Use the ARM4R model to predict actions step-by-step."
   ]
  },
  {
   "cell_type": "code",
   "execution_count": null,
   "id": "6bd85eed",
   "metadata": {},
   "outputs": [],
   "source": [
    "side_images = [Image.fromarray(side_images_l[i]) for i in range(side_images_l.shape[0])]\n",
    "wrist_images = [Image.fromarray(wrist_images_l[i]) for i in range(wrist_images_l.shape[0])]\n",
    "\n",
    "arm4r.reset()\n",
    "pred_actions = []\n",
    "\n",
    "for i in trange(len(side_images)):\n",
    "    if i == 0:\n",
    "        action = None\n",
    "    else:\n",
    "        action = actions[i - 1:i]\n",
    "    action = arm4r(\n",
    "        side_images[i], wrist_images[i],\n",
    "        proprios[i:i + 1],\n",
    "        instruction=instruction,\n",
    "        action=action,\n",
    "        use_temporal=True,\n",
    "        teacher_forcing=False,\n",
    "        binary_gripper=True,\n",
    "    )\n",
    "    pred_actions.append(action)\n",
    "\n",
    "pred_actions = np.array(pred_actions)"
   ]
  },
  {
   "cell_type": "markdown",
   "id": "a73500ca",
   "metadata": {},
   "source": [
    "## Step 7: Plot Predicted vs Ground Truth Actions"
   ]
  },
  {
   "cell_type": "code",
   "execution_count": null,
   "id": "e1f43f0b",
   "metadata": {},
   "outputs": [],
   "source": [
    "action_keys = [\"x\", \"y\", \"z\", \"roll\", \"pitch\", \"yaw\", \"gripper\"]\n",
    "T = pred_actions.shape[0]\n",
    "\n",
    "plt.figure(figsize=(12, 6))\n",
    "for i in range(7):\n",
    "    plt.subplot(2, 4, i + 1)\n",
    "    plt.plot(range(T), pred_actions[:, i], label='Predicted')\n",
    "    plt.plot(range(T), actions[:-1, :][:, i], label='Ground Truth')\n",
    "    plt.xlabel('Time Step')\n",
    "    plt.ylabel('Action Value')\n",
    "    plt.title(action_keys[i])\n",
    "    plt.legend()\n",
    "\n",
    "plt.tight_layout()\n",
    "plt.show()"
   ]
  },
  {
   "cell_type": "code",
   "execution_count": null,
   "id": "a451edd8-d10d-40f5-9e32-354c055a8272",
   "metadata": {},
   "outputs": [],
   "source": []
  }
 ],
 "metadata": {
  "kernelspec": {
   "display_name": "arm4r",
   "language": "python",
   "name": "python3"
  },
  "language_info": {
   "codemirror_mode": {
    "name": "ipython",
    "version": 3
   },
   "file_extension": ".py",
   "mimetype": "text/x-python",
   "name": "python",
   "nbconvert_exporter": "python",
   "pygments_lexer": "ipython3",
   "version": "3.8.1"
  }
 },
 "nbformat": 4,
 "nbformat_minor": 5
}
